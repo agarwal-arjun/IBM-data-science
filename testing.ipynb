{
 "cells": [
  {
   "cell_type": "code",
   "execution_count": 7,
   "metadata": {},
   "outputs": [],
   "source": [
    "import pandas as pd\n",
    "import numpy as np"
   ]
  },
  {
   "cell_type": "code",
   "execution_count": 3,
   "metadata": {},
   "outputs": [],
   "source": [
    "with open('test.txt','w') as writer:\n",
    "    writer.write('first,second;\\n')\n",
    "    writer.write('1,2;')"
   ]
  },
  {
   "cell_type": "code",
   "execution_count": 4,
   "metadata": {},
   "outputs": [
    {
     "name": "stdout",
     "output_type": "stream",
     "text": [
      "first,second;\n",
      "1,2;\n"
     ]
    }
   ],
   "source": [
    "data=open('test.txt','r')\n",
    "print(data.read())"
   ]
  },
  {
   "cell_type": "code",
   "execution_count": 5,
   "metadata": {},
   "outputs": [
    {
     "name": "stdout",
     "output_type": "stream",
     "text": [
      "   first\n",
      "0      1\n"
     ]
    }
   ],
   "source": [
    "df=pd.read_csv('test.txt')\n",
    "x=df[['first']]\n",
    "print(x)"
   ]
  },
  {
   "cell_type": "code",
   "execution_count": 11,
   "metadata": {},
   "outputs": [
    {
     "data": {
      "text/plain": [
       "array([1, 2])"
      ]
     },
     "execution_count": 11,
     "metadata": {},
     "output_type": "execute_result"
    }
   ],
   "source": [
    "X=np.array([[1,0,1],[2,2,2]]) \n",
    "out=X[0:3,2]\n",
    "\n",
    "out"
   ]
  },
  {
   "cell_type": "markdown",
   "metadata": {},
   "source": [
    "# Text to Speech\n",
    "{  \n",
    "  \"apikey\": \"xp3Vg5gedaNY-BiIM47pIRbmWPJOMiXbCx8zepOiSYy_\",  \n",
    "  \"iam_apikey_description\": \"Auto-generated for key 7a86a2c7-ed51-473a-aa47-362ef113fbbf\",  \n",
    "  \"iam_apikey_name\": \"Auto-generated service credentials\",  \n",
    "  \"iam_role_crn\": \"crn:v1:bluemix:public:iam::::serviceRole:Manager\",  \n",
    "  \"iam_serviceid_crn\": \"crn:v1:bluemix:public:iam-identity::a/ddd09bbdef3a4f7ca4d8e8fec47f78f1::serviceid:ServiceId-c10f3fa5-5cd0-485b-9188-a4a2d0d83f2d\",  \n",
    "  \"url\": \"https://api.eu-gb.speech-to-text.watson.cloud.ibm.com/instances/ad09f0fa-ee3f-4edb-8441-b710ea082f41\"  \n",
    "}\n",
    "\n",
    "# Language Translator\n",
    "\n",
    "{  \n",
    "  \"apikey\": \"jX9Vmo7Ovx2KTRO11oYQ0eksINzchuNU9zzD00K51npD\",  \n",
    "  \"iam_apikey_description\": \"Auto-generated for key 850c3308-4d20-4ab9-a369-0fec313b639c\",  \n",
    "  \"iam_apikey_name\": \"Auto-generated service credentials\",  \n",
    "  \"iam_role_crn\": \"crn:v1:bluemix:public:iam::::serviceRole:Manager\",  \n",
    "  \"iam_serviceid_crn\": \"crn:v1:bluemix:public:iam-identity::a/ddd09bbdef3a4f7ca4d8e8fec47f78f1::serviceid:ServiceId-084f3ca6-2b6d-459a-b0cb-9f84ebaff8ec\",  \n",
    "  \"url\": \"https://api.eu-gb.language-translator.watson.cloud.ibm.com/instances/a1f5d82a-3fd4-4578-a255-6c1ce047b34e\"  \n",
    "}"
   ]
  },
  {
   "cell_type": "code",
   "execution_count": null,
   "metadata": {},
   "outputs": [],
   "source": []
  }
 ],
 "metadata": {
  "kernelspec": {
   "display_name": "Python 3",
   "language": "python",
   "name": "python3"
  },
  "language_info": {
   "codemirror_mode": {
    "name": "ipython",
    "version": 3
   },
   "file_extension": ".py",
   "mimetype": "text/x-python",
   "name": "python",
   "nbconvert_exporter": "python",
   "pygments_lexer": "ipython3",
   "version": "3.6.5"
  }
 },
 "nbformat": 4,
 "nbformat_minor": 2
}
